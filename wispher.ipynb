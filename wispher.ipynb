{
 "cells": [
  {
   "cell_type": "code",
   "execution_count": 14,
   "metadata": {},
   "outputs": [],
   "source": [
    "import os\n",
    "import openai\n",
    "from dotenv import load_dotenv\n",
    "import re\n",
    "\n",
    "load_dotenv()\n",
    "\n",
    "openai.api_key = os.environ[\"OPENAI_API_KEY\"]\n",
    "\n",
    "sound_files = os.listdir('./recorded')\n",
    "\n",
    "result = []\n",
    "sound_files.sort(key=lambda x: re.sub(r'[^0-9]', '', x[0]))\n",
    "\n",
    "for sound_file_path in sound_files:\n",
    "    try:\n",
    "        if not sound_file_path.find('.m4a'): continue\n",
    "        sound_file = open(f'./recorded/{sound_file_path}', 'rb')\n",
    "        response = openai.Audio.transcribe(\"whisper-1\", sound_file, language='ko')\n",
    "        transcription = response[\"text\"]\n",
    "        result.append([sound_file_path ,transcription])\n",
    "    except Exception as e:\n",
    "        print('fileExected:', sound_file_path)"
   ]
  },
  {
   "cell_type": "code",
   "execution_count": 22,
   "metadata": {},
   "outputs": [],
   "source": [
    "import pandas as pd\n",
    "import openpyxl\n",
    "\n",
    "df = pd.DataFrame(result)\n",
    "\n",
    "df.to_excel('wispher_result.xlsx',sheet_name = 'Sheet1') "
   ]
  }
 ],
 "metadata": {
  "kernelspec": {
   "display_name": "Python 3",
   "language": "python",
   "name": "python3"
  },
  "language_info": {
   "codemirror_mode": {
    "name": "ipython",
    "version": 3
   },
   "file_extension": ".py",
   "mimetype": "text/x-python",
   "name": "python",
   "nbconvert_exporter": "python",
   "pygments_lexer": "ipython3",
   "version": "3.10.6"
  },
  "orig_nbformat": 4
 },
 "nbformat": 4,
 "nbformat_minor": 2
}
