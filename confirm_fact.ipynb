{
 "cells": [
  {
   "cell_type": "code",
   "execution_count": 3,
   "metadata": {},
   "outputs": [
    {
     "name": "stdout",
     "output_type": "stream",
     "text": [
      "100\n"
     ]
    }
   ],
   "source": [
    "from ask_search import search_and_ask\n",
    "import csv \n",
    "\n",
    "with open('saved_fact.csv', 'r+') as save_file:\n",
    "  saved_content_reader = csv.reader(save_file)\n",
    "  saved_content_len = 0\n",
    "  for i, row in enumerate(saved_content_reader):\n",
    "    saved_content_len += 1\n",
    "  print(saved_content_len)\n",
    "  with open(\"confirm_fact.csv\", 'r') as file:\n",
    "    csvreader = csv.reader(file)\n",
    "    for i, row in enumerate(csvreader):\n",
    "      if i <= saved_content_len:\n",
    "        continue\n",
    "      content = search_and_ask(row[0], '')\n",
    "      result = []\n",
    "      for i in content:\n",
    "        result.append(str(i).replace('\\n', '\\t').replace(',', ''))\n",
    "      save_file.write(','.join(result) + '\\n')"
   ]
  },
  {
   "cell_type": "code",
   "execution_count": 1,
   "metadata": {},
   "outputs": [
    {
     "name": "stdout",
     "output_type": "stream",
     "text": [
      "precisions1: 0.5850152902652901\n",
      "precisionsL: 0.5520228937728935\n",
      "Recall1 0.01089105584911577\n",
      "RecallL 0.00999510993748668\n",
      "FMeasure1 0.01089105584911577\n",
      "FMeasureL 0.00999510993748668\n"
     ]
    }
   ],
   "source": [
    "from rouge_score import rouge_scorer\n",
    "\n",
    "rouge_types = ['rouge1', 'rouge2', 'rougeL']\n",
    "scorer = rouge_scorer.RougeScorer(rouge_types, use_stemmer=True)\n",
    "import csv \n",
    "\n",
    "precisions1 = []\n",
    "precisionsl = []\n",
    "Recall1 = []\n",
    "Recalll = []\n",
    "FMeasure1 = []\n",
    "FMeasurel = []\n",
    "\n",
    "# ask, board_type, 유사도, 시간, boards, 답변\n",
    "with open('saved_fact.csv', 'r') as save_file:\n",
    "  saved_content_reader = csv.reader(save_file)\n",
    "  for c in saved_content_reader:\n",
    "    scores = scorer.score(c[5], c[6])\n",
    "    precisions1.append(scores['rouge1'].precision)\n",
    "    precisionsl.append(scores['rougeL'].precision)\n",
    "    Recall1.append(scores['rouge1'].recall)\n",
    "    Recalll.append(scores['rougeL'].recall)\n",
    "    FMeasure1.append(scores['rouge1'].recall)\n",
    "    FMeasurel.append(scores['rougeL'].recall)\n",
    "print(\"precisions1:\", sum(precisions1)/100)\n",
    "print(\"precisionsL:\", sum(precisionsl)/100)\n",
    "print(\"Recall1\", sum(Recall1)/100)\n",
    "print(\"RecallL\", sum(Recalll)/100)\n",
    "print(\"FMeasure1\", sum(FMeasure1)/100)\n",
    "print(\"FMeasureL\", sum(FMeasurel)/100)"
   ]
  }
 ],
 "metadata": {
  "kernelspec": {
   "display_name": "Python 3",
   "language": "python",
   "name": "python3"
  },
  "language_info": {
   "codemirror_mode": {
    "name": "ipython",
    "version": 3
   },
   "file_extension": ".py",
   "mimetype": "text/x-python",
   "name": "python",
   "nbconvert_exporter": "python",
   "pygments_lexer": "ipython3",
   "version": "3.10.6"
  },
  "orig_nbformat": 4
 },
 "nbformat": 4,
 "nbformat_minor": 2
}
